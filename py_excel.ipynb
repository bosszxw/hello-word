{
 "cells": [
  {
   "cell_type": "markdown",
   "metadata": {},
   "source": [
    "本文首发于公众号「凹凸数据」，作者：朱小五"
   ]
  },
  {
   "cell_type": "code",
   "execution_count": 1,
   "metadata": {
    "ExecuteTime": {
     "end_time": "2021-05-06T05:31:55.666354Z",
     "start_time": "2021-05-06T05:31:54.790248Z"
    }
   },
   "outputs": [],
   "source": [
    "import requests\n",
    "from openpyxl import load_workbook\n",
    "from openpyxl.drawing.image import Image"
   ]
  },
  {
   "cell_type": "code",
   "execution_count": 2,
   "metadata": {
    "ExecuteTime": {
     "end_time": "2021-05-06T05:31:55.713625Z",
     "start_time": "2021-05-06T05:31:55.669336Z"
    }
   },
   "outputs": [],
   "source": [
    "wb = load_workbook('将URL转变为图片并以Excel导出.xlsx')\n",
    "ws = wb['原始数据']"
   ]
  },
  {
   "cell_type": "code",
   "execution_count": 3,
   "metadata": {
    "ExecuteTime": {
     "end_time": "2021-05-06T05:31:55.729712Z",
     "start_time": "2021-05-06T05:31:55.718628Z"
    }
   },
   "outputs": [],
   "source": [
    "def download_img(url,file_name):\n",
    "    res = requests.get(url)\n",
    "    img = open(file_name, 'wb')\n",
    "    img.write(res.content)\n",
    "    img.close()"
   ]
  },
  {
   "cell_type": "code",
   "execution_count": 4,
   "metadata": {
    "ExecuteTime": {
     "end_time": "2021-05-06T05:31:55.745768Z",
     "start_time": "2021-05-06T05:31:55.732718Z"
    }
   },
   "outputs": [],
   "source": [
    "def insert_img(file_name,cell):\n",
    "    img = Image(file_name)\n",
    "    img.width,img.height=72,72\n",
    "    ws.add_image(img, cell)"
   ]
  },
  {
   "cell_type": "code",
   "execution_count": 5,
   "metadata": {
    "ExecuteTime": {
     "end_time": "2021-05-06T05:31:56.029428Z",
     "start_time": "2021-05-06T05:31:55.747756Z"
    }
   },
   "outputs": [],
   "source": [
    "for i in range(2,5):\n",
    "    name = ws['A'+str(i)].value + '.jpg'\n",
    "    url = ws['B'+str(i)].value\n",
    "    download_img(url,name)\n",
    "    ws['B'+str(i)]=\"\"\n",
    "    ws.row_dimensions[i].height=54\n",
    "    insert_img(name,'B'+str(i))\n",
    "    \n",
    "wb.save('结果文件.xlsx')"
   ]
  },
  {
   "cell_type": "markdown",
   "metadata": {
    "ExecuteTime": {
     "end_time": "2021-05-06T05:31:21.081778Z",
     "start_time": "2021-05-06T05:31:21.035313Z"
    }
   },
   "source": [
    "### 欢迎扫码关注我的公众号，轻松学习python自动化办公\n",
    "\n",
    "![](https://img-blog.csdnimg.cn/20210411205712417.gif)"
   ]
  },
  {
   "cell_type": "code",
   "execution_count": null,
   "metadata": {},
   "outputs": [],
   "source": []
  }
 ],
 "metadata": {
  "kernelspec": {
   "display_name": "Python 3",
   "language": "python",
   "name": "python3"
  },
  "language_info": {
   "codemirror_mode": {
    "name": "ipython",
    "version": 3
   },
   "file_extension": ".py",
   "mimetype": "text/x-python",
   "name": "python",
   "nbconvert_exporter": "python",
   "pygments_lexer": "ipython3",
   "version": "3.8.5"
  },
  "toc": {
   "base_numbering": 1,
   "nav_menu": {},
   "number_sections": true,
   "sideBar": true,
   "skip_h1_title": false,
   "title_cell": "Table of Contents",
   "title_sidebar": "Contents",
   "toc_cell": false,
   "toc_position": {},
   "toc_section_display": true,
   "toc_window_display": false
  }
 },
 "nbformat": 4,
 "nbformat_minor": 4
}
